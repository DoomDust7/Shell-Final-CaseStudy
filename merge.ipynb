{
 "cells": [
  {
   "cell_type": "code",
   "execution_count": 2,
   "id": "25aee97b",
   "metadata": {},
   "outputs": [],
   "source": [
    "import pandas as pd\n",
    "\n",
    "initialproduction = pd.read_csv('INITIALPRODUCTION.csv')\n",
    "production = pd.read_csv('PRODUCTION.csv')\n",
    "chemicals = pd.read_csv('CHEMICALS.csv')\n",
    "wellheader = pd.read_csv('WELLHEADER.csv')\n",
    "prodflaring = pd.read_csv('PRODUCTIONFLARING.csv')\n",
    "operator = pd.read_csv('OPERATOR.csv')\n",
    "\n",
    "prodflaringcleaned = pd.read_csv('prodflaring_cleaned_data.csv')\n",
    "merged_operator_name = pd.read_csv('operatorName.csv')"
   ]
  },
  {
   "cell_type": "code",
   "execution_count": 5,
   "id": "9554f546",
   "metadata": {},
   "outputs": [
    {
     "data": {
      "text/html": [
       "<div>\n",
       "<style scoped>\n",
       "    .dataframe tbody tr th:only-of-type {\n",
       "        vertical-align: middle;\n",
       "    }\n",
       "\n",
       "    .dataframe tbody tr th {\n",
       "        vertical-align: top;\n",
       "    }\n",
       "\n",
       "    .dataframe thead th {\n",
       "        text-align: right;\n",
       "    }\n",
       "</style>\n",
       "<table border=\"1\" class=\"dataframe\">\n",
       "  <thead>\n",
       "    <tr style=\"text-align: right;\">\n",
       "      <th></th>\n",
       "      <th>API Number</th>\n",
       "      <th>Initial Production - 30 Days</th>\n",
       "      <th>Initial Production - 90 Days</th>\n",
       "      <th>Initial Production - Half-Year</th>\n",
       "      <th>Initial Production - Year</th>\n",
       "      <th>ID</th>\n",
       "      <th>OilAndGasGroup</th>\n",
       "    </tr>\n",
       "  </thead>\n",
       "  <tbody>\n",
       "    <tr>\n",
       "      <th>0</th>\n",
       "      <td>33-053-04634-0000</td>\n",
       "      <td>644.387085</td>\n",
       "      <td>587.550903</td>\n",
       "      <td>469.602753</td>\n",
       "      <td>362.840027</td>\n",
       "      <td>868553</td>\n",
       "      <td>Light Oil</td>\n",
       "    </tr>\n",
       "    <tr>\n",
       "      <th>1</th>\n",
       "      <td>33-053-04634-0000</td>\n",
       "      <td>206.489243</td>\n",
       "      <td>117.744446</td>\n",
       "      <td>109.351944</td>\n",
       "      <td>86.572418</td>\n",
       "      <td>868554</td>\n",
       "      <td>Rich Gas</td>\n",
       "    </tr>\n",
       "    <tr>\n",
       "      <th>2</th>\n",
       "      <td>33-053-04650-0000</td>\n",
       "      <td>733.974182</td>\n",
       "      <td>484.655548</td>\n",
       "      <td>346.971008</td>\n",
       "      <td>236.386124</td>\n",
       "      <td>868801</td>\n",
       "      <td>Light Oil</td>\n",
       "    </tr>\n",
       "    <tr>\n",
       "      <th>3</th>\n",
       "      <td>33-053-04650-0000</td>\n",
       "      <td>237.271500</td>\n",
       "      <td>186.770676</td>\n",
       "      <td>134.202591</td>\n",
       "      <td>95.206291</td>\n",
       "      <td>868802</td>\n",
       "      <td>Rich Gas</td>\n",
       "    </tr>\n",
       "    <tr>\n",
       "      <th>4</th>\n",
       "      <td>33-053-04600-0000</td>\n",
       "      <td>595.380005</td>\n",
       "      <td>488.553345</td>\n",
       "      <td>428.140106</td>\n",
       "      <td>345.219177</td>\n",
       "      <td>870179</td>\n",
       "      <td>Light Oil</td>\n",
       "    </tr>\n",
       "  </tbody>\n",
       "</table>\n",
       "</div>"
      ],
      "text/plain": [
       "          API Number  Initial Production - 30 Days  \\\n",
       "0  33-053-04634-0000                    644.387085   \n",
       "1  33-053-04634-0000                    206.489243   \n",
       "2  33-053-04650-0000                    733.974182   \n",
       "3  33-053-04650-0000                    237.271500   \n",
       "4  33-053-04600-0000                    595.380005   \n",
       "\n",
       "   Initial Production - 90 Days  Initial Production - Half-Year  \\\n",
       "0                    587.550903                      469.602753   \n",
       "1                    117.744446                      109.351944   \n",
       "2                    484.655548                      346.971008   \n",
       "3                    186.770676                      134.202591   \n",
       "4                    488.553345                      428.140106   \n",
       "\n",
       "   Initial Production - Year      ID OilAndGasGroup  \n",
       "0                 362.840027  868553      Light Oil  \n",
       "1                  86.572418  868554       Rich Gas  \n",
       "2                 236.386124  868801      Light Oil  \n",
       "3                  95.206291  868802       Rich Gas  \n",
       "4                 345.219177  870179      Light Oil  "
      ]
     },
     "execution_count": 5,
     "metadata": {},
     "output_type": "execute_result"
    }
   ],
   "source": [
    "initialproduction.head()"
   ]
  },
  {
   "cell_type": "code",
   "execution_count": 6,
   "id": "f09b5ed0",
   "metadata": {},
   "outputs": [
    {
     "data": {
      "text/plain": [
       "29771"
      ]
     },
     "execution_count": 6,
     "metadata": {},
     "output_type": "execute_result"
    }
   ],
   "source": [
    "initialproduction.size"
   ]
  },
  {
   "cell_type": "code",
   "execution_count": 7,
   "id": "bb1fc394",
   "metadata": {},
   "outputs": [
    {
     "data": {
      "text/html": [
       "<div>\n",
       "<style scoped>\n",
       "    .dataframe tbody tr th:only-of-type {\n",
       "        vertical-align: middle;\n",
       "    }\n",
       "\n",
       "    .dataframe tbody tr th {\n",
       "        vertical-align: top;\n",
       "    }\n",
       "\n",
       "    .dataframe thead th {\n",
       "        text-align: right;\n",
       "    }\n",
       "</style>\n",
       "<table border=\"1\" class=\"dataframe\">\n",
       "  <thead>\n",
       "    <tr style=\"text-align: right;\">\n",
       "      <th></th>\n",
       "      <th>Id</th>\n",
       "      <th>API Number</th>\n",
       "      <th>Year</th>\n",
       "      <th>Month</th>\n",
       "      <th>OilAndGasGroup</th>\n",
       "      <th>Production</th>\n",
       "      <th>CumulativeCalendarMonths</th>\n",
       "      <th>CumulativeCalendarYears</th>\n",
       "      <th>Production Phase</th>\n",
       "      <th>Production Forecast Group</th>\n",
       "      <th>OilAndGasCategory</th>\n",
       "    </tr>\n",
       "  </thead>\n",
       "  <tbody>\n",
       "    <tr>\n",
       "      <th>0</th>\n",
       "      <td>120940305</td>\n",
       "      <td>33-053-05925-0000</td>\n",
       "      <td>2015</td>\n",
       "      <td>8</td>\n",
       "      <td>G</td>\n",
       "      <td>357.833340</td>\n",
       "      <td>4</td>\n",
       "      <td>0</td>\n",
       "      <td>L</td>\n",
       "      <td>R</td>\n",
       "      <td>G</td>\n",
       "    </tr>\n",
       "    <tr>\n",
       "      <th>1</th>\n",
       "      <td>120941158</td>\n",
       "      <td>33-053-05640-0000</td>\n",
       "      <td>2015</td>\n",
       "      <td>11</td>\n",
       "      <td>G</td>\n",
       "      <td>4853.000000</td>\n",
       "      <td>11</td>\n",
       "      <td>0</td>\n",
       "      <td>L</td>\n",
       "      <td>R</td>\n",
       "      <td>G</td>\n",
       "    </tr>\n",
       "    <tr>\n",
       "      <th>2</th>\n",
       "      <td>120942486</td>\n",
       "      <td>33-053-04633-0000</td>\n",
       "      <td>2015</td>\n",
       "      <td>11</td>\n",
       "      <td>G</td>\n",
       "      <td>114.166660</td>\n",
       "      <td>17</td>\n",
       "      <td>1</td>\n",
       "      <td>L</td>\n",
       "      <td>R</td>\n",
       "      <td>F</td>\n",
       "    </tr>\n",
       "    <tr>\n",
       "      <th>3</th>\n",
       "      <td>120944833</td>\n",
       "      <td>33-053-05091-0000</td>\n",
       "      <td>2015</td>\n",
       "      <td>8</td>\n",
       "      <td>O</td>\n",
       "      <td>5190.000000</td>\n",
       "      <td>10</td>\n",
       "      <td>0</td>\n",
       "      <td>L</td>\n",
       "      <td>R</td>\n",
       "      <td>O</td>\n",
       "    </tr>\n",
       "    <tr>\n",
       "      <th>4</th>\n",
       "      <td>120952678</td>\n",
       "      <td>33-053-05551-0000</td>\n",
       "      <td>2015</td>\n",
       "      <td>11</td>\n",
       "      <td>G</td>\n",
       "      <td>52.833332</td>\n",
       "      <td>11</td>\n",
       "      <td>0</td>\n",
       "      <td>L</td>\n",
       "      <td>R</td>\n",
       "      <td>F</td>\n",
       "    </tr>\n",
       "  </tbody>\n",
       "</table>\n",
       "</div>"
      ],
      "text/plain": [
       "          Id         API Number  Year  Month OilAndGasGroup   Production  \\\n",
       "0  120940305  33-053-05925-0000  2015      8              G   357.833340   \n",
       "1  120941158  33-053-05640-0000  2015     11              G  4853.000000   \n",
       "2  120942486  33-053-04633-0000  2015     11              G   114.166660   \n",
       "3  120944833  33-053-05091-0000  2015      8              O  5190.000000   \n",
       "4  120952678  33-053-05551-0000  2015     11              G    52.833332   \n",
       "\n",
       "   CumulativeCalendarMonths  CumulativeCalendarYears Production Phase  \\\n",
       "0                         4                        0                L   \n",
       "1                        11                        0                L   \n",
       "2                        17                        1                L   \n",
       "3                        10                        0                L   \n",
       "4                        11                        0                L   \n",
       "\n",
       "  Production Forecast Group OilAndGasCategory  \n",
       "0                         R                 G  \n",
       "1                         R                 G  \n",
       "2                         R                 F  \n",
       "3                         R                 O  \n",
       "4                         R                 F  "
      ]
     },
     "execution_count": 7,
     "metadata": {},
     "output_type": "execute_result"
    }
   ],
   "source": [
    "production.head()"
   ]
  },
  {
   "cell_type": "code",
   "execution_count": 8,
   "id": "68e55c34",
   "metadata": {},
   "outputs": [
    {
     "data": {
      "text/plain": [
       "8800044"
      ]
     },
     "execution_count": 8,
     "metadata": {},
     "output_type": "execute_result"
    }
   ],
   "source": [
    "production.size"
   ]
  },
  {
   "cell_type": "code",
   "execution_count": 9,
   "id": "42a99322",
   "metadata": {},
   "outputs": [],
   "source": [
    "merged_df = pd.merge(production, initialproduction, on='API Number', how='inner')"
   ]
  },
  {
   "cell_type": "code",
   "execution_count": 10,
   "id": "04a094e3",
   "metadata": {},
   "outputs": [
    {
     "data": {
      "text/html": [
       "<div>\n",
       "<style scoped>\n",
       "    .dataframe tbody tr th:only-of-type {\n",
       "        vertical-align: middle;\n",
       "    }\n",
       "\n",
       "    .dataframe tbody tr th {\n",
       "        vertical-align: top;\n",
       "    }\n",
       "\n",
       "    .dataframe thead th {\n",
       "        text-align: right;\n",
       "    }\n",
       "</style>\n",
       "<table border=\"1\" class=\"dataframe\">\n",
       "  <thead>\n",
       "    <tr style=\"text-align: right;\">\n",
       "      <th></th>\n",
       "      <th>Id</th>\n",
       "      <th>API Number</th>\n",
       "      <th>Year</th>\n",
       "      <th>Month</th>\n",
       "      <th>OilAndGasGroup_x</th>\n",
       "      <th>Production</th>\n",
       "      <th>CumulativeCalendarMonths</th>\n",
       "      <th>CumulativeCalendarYears</th>\n",
       "      <th>Production Phase</th>\n",
       "      <th>Production Forecast Group</th>\n",
       "      <th>OilAndGasCategory</th>\n",
       "      <th>Initial Production - 30 Days</th>\n",
       "      <th>Initial Production - 90 Days</th>\n",
       "      <th>Initial Production - Half-Year</th>\n",
       "      <th>Initial Production - Year</th>\n",
       "      <th>ID</th>\n",
       "      <th>OilAndGasGroup_y</th>\n",
       "    </tr>\n",
       "  </thead>\n",
       "  <tbody>\n",
       "    <tr>\n",
       "      <th>0</th>\n",
       "      <td>120940305</td>\n",
       "      <td>33-053-05925-0000</td>\n",
       "      <td>2015</td>\n",
       "      <td>8</td>\n",
       "      <td>G</td>\n",
       "      <td>357.83334</td>\n",
       "      <td>4</td>\n",
       "      <td>0</td>\n",
       "      <td>L</td>\n",
       "      <td>R</td>\n",
       "      <td>G</td>\n",
       "      <td>1062.350586</td>\n",
       "      <td>889.223694</td>\n",
       "      <td>860.591187</td>\n",
       "      <td>686.823608</td>\n",
       "      <td>1091683</td>\n",
       "      <td>Light Oil</td>\n",
       "    </tr>\n",
       "    <tr>\n",
       "      <th>1</th>\n",
       "      <td>120940305</td>\n",
       "      <td>33-053-05925-0000</td>\n",
       "      <td>2015</td>\n",
       "      <td>8</td>\n",
       "      <td>G</td>\n",
       "      <td>357.83334</td>\n",
       "      <td>4</td>\n",
       "      <td>0</td>\n",
       "      <td>L</td>\n",
       "      <td>R</td>\n",
       "      <td>G</td>\n",
       "      <td>228.381180</td>\n",
       "      <td>191.679993</td>\n",
       "      <td>166.647583</td>\n",
       "      <td>136.906464</td>\n",
       "      <td>1091684</td>\n",
       "      <td>Rich Gas</td>\n",
       "    </tr>\n",
       "    <tr>\n",
       "      <th>2</th>\n",
       "      <td>118141057</td>\n",
       "      <td>33-053-05925-0000</td>\n",
       "      <td>2015</td>\n",
       "      <td>4</td>\n",
       "      <td>O</td>\n",
       "      <td>12901.00000</td>\n",
       "      <td>1</td>\n",
       "      <td>0</td>\n",
       "      <td>N</td>\n",
       "      <td>R</td>\n",
       "      <td>O</td>\n",
       "      <td>1062.350586</td>\n",
       "      <td>889.223694</td>\n",
       "      <td>860.591187</td>\n",
       "      <td>686.823608</td>\n",
       "      <td>1091683</td>\n",
       "      <td>Light Oil</td>\n",
       "    </tr>\n",
       "    <tr>\n",
       "      <th>3</th>\n",
       "      <td>118141057</td>\n",
       "      <td>33-053-05925-0000</td>\n",
       "      <td>2015</td>\n",
       "      <td>4</td>\n",
       "      <td>O</td>\n",
       "      <td>12901.00000</td>\n",
       "      <td>1</td>\n",
       "      <td>0</td>\n",
       "      <td>N</td>\n",
       "      <td>R</td>\n",
       "      <td>O</td>\n",
       "      <td>228.381180</td>\n",
       "      <td>191.679993</td>\n",
       "      <td>166.647583</td>\n",
       "      <td>136.906464</td>\n",
       "      <td>1091684</td>\n",
       "      <td>Rich Gas</td>\n",
       "    </tr>\n",
       "    <tr>\n",
       "      <th>4</th>\n",
       "      <td>120940273</td>\n",
       "      <td>33-053-05925-0000</td>\n",
       "      <td>2015</td>\n",
       "      <td>8</td>\n",
       "      <td>O</td>\n",
       "      <td>24554.00000</td>\n",
       "      <td>4</td>\n",
       "      <td>0</td>\n",
       "      <td>L</td>\n",
       "      <td>R</td>\n",
       "      <td>O</td>\n",
       "      <td>1062.350586</td>\n",
       "      <td>889.223694</td>\n",
       "      <td>860.591187</td>\n",
       "      <td>686.823608</td>\n",
       "      <td>1091683</td>\n",
       "      <td>Light Oil</td>\n",
       "    </tr>\n",
       "  </tbody>\n",
       "</table>\n",
       "</div>"
      ],
      "text/plain": [
       "          Id         API Number  Year  Month OilAndGasGroup_x   Production  \\\n",
       "0  120940305  33-053-05925-0000  2015      8                G    357.83334   \n",
       "1  120940305  33-053-05925-0000  2015      8                G    357.83334   \n",
       "2  118141057  33-053-05925-0000  2015      4                O  12901.00000   \n",
       "3  118141057  33-053-05925-0000  2015      4                O  12901.00000   \n",
       "4  120940273  33-053-05925-0000  2015      8                O  24554.00000   \n",
       "\n",
       "   CumulativeCalendarMonths  CumulativeCalendarYears Production Phase  \\\n",
       "0                         4                        0                L   \n",
       "1                         4                        0                L   \n",
       "2                         1                        0                N   \n",
       "3                         1                        0                N   \n",
       "4                         4                        0                L   \n",
       "\n",
       "  Production Forecast Group OilAndGasCategory  Initial Production - 30 Days  \\\n",
       "0                         R                 G                   1062.350586   \n",
       "1                         R                 G                    228.381180   \n",
       "2                         R                 O                   1062.350586   \n",
       "3                         R                 O                    228.381180   \n",
       "4                         R                 O                   1062.350586   \n",
       "\n",
       "   Initial Production - 90 Days  Initial Production - Half-Year  \\\n",
       "0                    889.223694                      860.591187   \n",
       "1                    191.679993                      166.647583   \n",
       "2                    889.223694                      860.591187   \n",
       "3                    191.679993                      166.647583   \n",
       "4                    889.223694                      860.591187   \n",
       "\n",
       "   Initial Production - Year       ID OilAndGasGroup_y  \n",
       "0                 686.823608  1091683        Light Oil  \n",
       "1                 136.906464  1091684         Rich Gas  \n",
       "2                 686.823608  1091683        Light Oil  \n",
       "3                 136.906464  1091684         Rich Gas  \n",
       "4                 686.823608  1091683        Light Oil  "
      ]
     },
     "execution_count": 10,
     "metadata": {},
     "output_type": "execute_result"
    }
   ],
   "source": [
    "merged_df.head()"
   ]
  },
  {
   "cell_type": "code",
   "execution_count": 11,
   "id": "9f315724",
   "metadata": {},
   "outputs": [
    {
     "data": {
      "text/plain": [
       "27184292"
      ]
     },
     "execution_count": 11,
     "metadata": {},
     "output_type": "execute_result"
    }
   ],
   "source": [
    "merged_df.size"
   ]
  },
  {
   "cell_type": "code",
   "execution_count": 12,
   "id": "b58decd1",
   "metadata": {},
   "outputs": [],
   "source": [
    "merged_df.to_csv('merged_prod.csv', index=False)"
   ]
  },
  {
   "cell_type": "code",
   "execution_count": 13,
   "id": "f32d9ab5",
   "metadata": {},
   "outputs": [],
   "source": [
    "merged_df1 = pd.merge(wellheader, prodflaring, on='API Number', how='inner')"
   ]
  },
  {
   "cell_type": "code",
   "execution_count": 14,
   "id": "ea385e7b",
   "metadata": {},
   "outputs": [
    {
     "data": {
      "text/plain": [
       "35351000"
      ]
     },
     "execution_count": 14,
     "metadata": {},
     "output_type": "execute_result"
    }
   ],
   "source": [
    "merged_df1.size"
   ]
  },
  {
   "cell_type": "code",
   "execution_count": 15,
   "id": "8019a4e7",
   "metadata": {},
   "outputs": [
    {
     "data": {
      "text/plain": [
       "230"
      ]
     },
     "execution_count": 15,
     "metadata": {},
     "output_type": "execute_result"
    }
   ],
   "source": [
    "len(merged_df1.columns)"
   ]
  },
  {
   "cell_type": "code",
   "execution_count": 16,
   "id": "b7f1f064",
   "metadata": {},
   "outputs": [
    {
     "name": "stdout",
     "output_type": "stream",
     "text": [
      "Index(['Id_x', 'API Number', 'Well Name', 'Texas District', 'Lease Name',\n",
      "       'Lease Number', 'Number of Wells in Lease', 'Formation', 'Field',\n",
      "       'Well Direction',\n",
      "       ...\n",
      "       'Land Type Category', 'Mineral Rights Type', 'Simul Frac Completion',\n",
      "       'Wellhead Breakeven Oil Price', 'Wellhead Breakeven Gas Price', 'Id_y',\n",
      "       'Year', 'Month', 'FlaredGas_MCf', 'GrossGasProduction_MCf'],\n",
      "      dtype='object', length=230)\n"
     ]
    }
   ],
   "source": [
    "column_names = merged_df1.columns\n",
    "print(column_names)"
   ]
  },
  {
   "cell_type": "code",
   "execution_count": 17,
   "id": "1314b9c2",
   "metadata": {},
   "outputs": [
    {
     "name": "stdout",
     "output_type": "stream",
     "text": [
      "Index(['Id_x', 'API Number', 'Well Name', 'Texas District', 'Lease Name',\n",
      "       'Lease Number', 'Number of Wells in Lease', 'Formation', 'Field',\n",
      "       'Well Direction'],\n",
      "      dtype='object')\n",
      "Index(['Well Type', 'Spud Date', 'Completion Date', 'Initial Test Date',\n",
      "       'Production Start Date', 'Peak Production Date', 'Permit Issue Date',\n",
      "       'Last Production Date', 'Refracturing Date', 'Well Status'],\n",
      "      dtype='object')\n",
      "Index(['Last Update Date', 'Frac Focus Version', 'Pad ID',\n",
      "       'Reported Production Months', 'Reported Well Type', 'First Record Date',\n",
      "       'Number of Casing Strings Group', 'Number of Casing Strings Category',\n",
      "       'Pad State', 'Parent Child Classification'],\n",
      "      dtype='object')\n",
      "Index(['Pad Sequence Completion', 'Pad Segment Completion',\n",
      "       'Pad Sequence Spud', 'Pad Segment Spud', 'Land Type', 'Choke Size',\n",
      "       'Well Spacing', 'Longitude', 'Latitude',\n",
      "       'Reported 24-h Test Water Production'],\n",
      "      dtype='object')\n",
      "Index(['Reported 24-h Test Production', 'Maximum Treatment Pressure',\n",
      "       'Maximum Treatment Rate', 'Proppant (Thousand pounds)', 'Ground Level',\n",
      "       'Total Measured Depth', 'True Vertical Depth', 'Lateral Length',\n",
      "       'Drilling Days', 'Frac Stages (Count)'],\n",
      "      dtype='object')\n",
      "Index(['BottomHole Longitude', 'BottomHole Latitude',\n",
      "       'Surface Lateral Projection', 'Upper Perforation', 'Lower Perforation',\n",
      "       'Perforated Length', 'Distance Closest Well 2D (Feet)',\n",
      "       'Distance Closest Well 3D (Feet)', 'FK_NASGeography', 'FK_NASOperator'],\n",
      "      dtype='object')\n",
      "Index(['RE ID', 'Asset', 'FK_NASDataQuality', 'Light Oil Content Group',\n",
      "       'Light Oil Content Category', 'Light Oil Content Detail',\n",
      "       'Initial Production Group', 'Initial Production Category',\n",
      "       'Initial Production Detail', 'FK_NASREAnalysis'],\n",
      "      dtype='object')\n",
      "Index(['Spud Date Reporting Group', 'Completion Date Reporting Group',\n",
      "       'Production Start Date Reporting Group', 'TVD Group', 'TVD Category',\n",
      "       'TVD Detail', 'Well Origin', 'TMD Group', 'TMD Category', 'TMD Detail'],\n",
      "      dtype='object')\n",
      "Index(['Lateral Length Group', 'Lateral Length Category',\n",
      "       'Lateral Length Detail', 'Service Provider',\n",
      "       'Service Provider Confidence', 'Initial Light Oil Content Group',\n",
      "       'Initial Light Oil Content Category',\n",
      "       'Initial Light Oil Content Detail', 'FK_NASBreakevenOilPrice',\n",
      "       'FK_NASBreakevenGasPrice'],\n",
      "      dtype='object')\n",
      "Index(['API Group', 'API Category', 'API Detail', 'Gas Gatherer',\n",
      "       'Liquids Gatherer', 'Proppant Type Group', 'Proppant Type Category',\n",
      "       'Proppant Type Detail', 'Life Cycle Group', 'Life Cycle Category'],\n",
      "      dtype='object')\n",
      "Index(['Life Cycle Detail', 'Acreage Grade Group', 'Acreage Grade Category',\n",
      "       'Acreage Grade Detail', 'Frac Job Type Group', 'Frac Job Type Category',\n",
      "       'Frac Job Type Detail', 'Proppant Intensity Group',\n",
      "       'Proppant Intensity Category', 'Proppant Intensity Detail'],\n",
      "      dtype='object')\n",
      "Index(['Fluid Intensity Group', 'Fluid Intensity Category',\n",
      "       'Fluid Intensity Detail', 'FK_NASLocation', 'Distance 3D Group',\n",
      "       'Distance 3D Category', 'Distance 3D Detail',\n",
      "       'Days Since Frac Spread On Location', 'Days Since Rig On Location',\n",
      "       'Drilling Contractor'],\n",
      "      dtype='object')\n",
      "Index(['First Reported Operator', 'Implied Wells Per Section',\n",
      "       'Landing Zone ID', 'Latest Reported Operator Change Date',\n",
      "       'Liquid Injection Type', 'Parent Child Classification Spacing Unit',\n",
      "       'Permit Number', 'Previous Reported Operator', 'Production Method',\n",
      "       'Reported Well Status'],\n",
      "      dtype='object')\n",
      "Index(['Spacing Unit ID', 'Spacing Unit Name', 'Spacing Unit Segment',\n",
      "       'Spacing Unit Sequence', 'Spacing Unit Size', 'Stimulation End Date',\n",
      "       'Stimulation Start Date', 'Total Depth Date', 'Wells Per Landing Zone',\n",
      "       'Zipper Frac Completion'],\n",
      "      dtype='object')\n",
      "Index(['Zones Per Spacing Unit', 'Completion Date Reporting Category',\n",
      "       'Stimulation End Date Reporting Group',\n",
      "       'Stimulation Start Date Reporting Group',\n",
      "       'Estimated Well Gas Hyperbolic Factor',\n",
      "       'Estimated Well Oil Hyperbolic Factor',\n",
      "       'Estimated Well Gas Initial Decline',\n",
      "       'Estimated Well Oil Initial Decline',\n",
      "       'Estimated Well Gas Peak Production',\n",
      "       'Estimated Well Oil Peak Production'],\n",
      "      dtype='object')\n",
      "Index(['Frac Spread Latest Location', 'Gun Barrel View Offset',\n",
      "       'HH Gas Breakeven Full Cycle', 'HH Gas Breakeven Go Forward',\n",
      "       'Horizontal Spacing', 'HorsepowerHours', 'Injection Zone Bottom',\n",
      "       'Injection Zone Top', 'IRR Wellhead', 'IRR'],\n",
      "      dtype='object')\n",
      "Index(['Max Authorized Injection Pressure',\n",
      "       'Max Authorized Liquid Injection Rate', 'NPV Wellhead', 'NPV',\n",
      "       'Rigs Latest Location', 'Stimulation Days', 'Vertical Spacing Lower',\n",
      "       'Vertical Spacing Upper', 'WTI Breakeven Full Cycle',\n",
      "       'WTI Breakeven Go Forward'],\n",
      "      dtype='object')\n",
      "Index(['Fracturing Liquid Volume', 'Open Hole Completion',\n",
      "       'Original Formation', 'Target Formation Source',\n",
      "       'Target Formation Source Confidence', 'Contact Address', 'Contact City',\n",
      "       'Contact State', 'Contact Zip Code', 'Last Irregularity Year - Month'],\n",
      "      dtype='object')\n",
      "Index(['Mesh Size Confidence', 'Mesh Size Detail', 'Sand Type Confidence',\n",
      "       'Sand Type Detail', 'Average API Gravity', 'Distance Closest Well 2D',\n",
      "       'Distance Closest Well 3D', 'Drilling Days Sum',\n",
      "       'End Frac to Production Time', 'Fluid per Foot'],\n",
      "      dtype='object')\n",
      "Index(['FracStageCount', 'Fracturing Liquid Volume Sum', 'HorizontalSpacing',\n",
      "       'HorsepowerHours Sum', 'Irregularity Recovery Ratio',\n",
      "       'MaxAuthorizedInjectionPressure', 'MaxAuthorizedLiquidInjectionRate',\n",
      "       'Permit to Production Time', 'Permit to Spud Time',\n",
      "       'Spud to Completion Time'],\n",
      "      dtype='object')\n",
      "Index(['Spud to Production Time', 'Spud to Start-Up Time', 'Spud to TD Time',\n",
      "       'Start Frac to End Frac Time', 'Start Frac to Production Time',\n",
      "       'String Bottom', 'String Cement Use', 'String Diameter Total',\n",
      "       'String Top', 'TD to Production Time'],\n",
      "      dtype='object')\n",
      "Index(['TD to Start Frac Time', 'VerticalSpacingLower', 'VerticalSpacingUpper',\n",
      "       'Lease Serial Number', 'Lease Agency Name', 'Lease Authorization Date',\n",
      "       'Spud Date Reporting Category', 'Frac Fluid Model', 'Proppant Model',\n",
      "       'Land Type Group'],\n",
      "      dtype='object')\n",
      "Index(['Land Type Category', 'Mineral Rights Type', 'Simul Frac Completion',\n",
      "       'Wellhead Breakeven Oil Price', 'Wellhead Breakeven Gas Price', 'Id_y',\n",
      "       'Year', 'Month', 'FlaredGas_MCf', 'GrossGasProduction_MCf'],\n",
      "      dtype='object')\n"
     ]
    }
   ],
   "source": [
    "# Assuming you have already created and populated the 'merged_df' DataFrame\n",
    "column_names = merged_df1.columns\n",
    "\n",
    "# Split the column names into chunks of 10 for printing\n",
    "chunk_size = 10\n",
    "for i in range(0, len(column_names), chunk_size):\n",
    "    chunk = column_names[i:i + chunk_size]\n",
    "    print(chunk)\n"
   ]
  },
  {
   "cell_type": "code",
   "execution_count": 18,
   "id": "9322914d",
   "metadata": {},
   "outputs": [
    {
     "ename": "NameError",
     "evalue": "name 'merged' is not defined",
     "output_type": "error",
     "traceback": [
      "\u001b[1;31m---------------------------------------------------------------------------\u001b[0m",
      "\u001b[1;31mNameError\u001b[0m                                 Traceback (most recent call last)",
      "Cell \u001b[1;32mIn[18], line 1\u001b[0m\n\u001b[1;32m----> 1\u001b[0m merged\n",
      "\u001b[1;31mNameError\u001b[0m: name 'merged' is not defined"
     ]
    }
   ],
   "source": [
    "merged"
   ]
  },
  {
   "cell_type": "code",
   "execution_count": 23,
   "id": "4a33efbe",
   "metadata": {},
   "outputs": [
    {
     "name": "stdout",
     "output_type": "stream",
     "text": [
      "Id                            0\n",
      "API Number                    0\n",
      "Year                          0\n",
      "Month                         0\n",
      "FlaredGas_MCf             52062\n",
      "GrossGasProduction_MCf        0\n",
      "dtype: int64\n"
     ]
    }
   ],
   "source": [
    "\n",
    "\n",
    "# Check for null values in the entire DataFrame\n",
    "print(prodflaring.isnull().sum())\n",
    "\n",
    "# Remove rows with null values\n",
    "#df.dropna(inplace=True)\n",
    "\n",
    "# Save the cleaned DataFrame to a new CSV file\n",
    "#df.to_csv('cleaned_data.csv', index=False)\n"
   ]
  },
  {
   "cell_type": "code",
   "execution_count": null,
   "id": "c19cab30",
   "metadata": {},
   "outputs": [],
   "source": [
    "\n",
    "\n",
    "# Calculate the average for each column\n",
    "column_averages = prodflaring.mean()\n",
    "\n",
    "# Replace null values with the corresponding column's average\n",
    "prodflaring.fillna(column_averages, inplace=True)\n",
    "\n",
    "# Save the cleaned DataFrame to a new CSV file\n",
    "#prodflaring.to_csv('cleaned_data.csv', index=False)\n"
   ]
  },
  {
   "cell_type": "code",
   "execution_count": null,
   "id": "67e74ed6",
   "metadata": {},
   "outputs": [],
   "source": [
    "print(prodflaring.isnull().sum())"
   ]
  },
  {
   "cell_type": "code",
   "execution_count": null,
   "id": "e8712bff",
   "metadata": {},
   "outputs": [],
   "source": [
    "prodflaring.to_csv('prodflaring_cleaned_data.csv', index=False)"
   ]
  },
  {
   "cell_type": "code",
   "execution_count": 26,
   "id": "fea9ba78",
   "metadata": {},
   "outputs": [],
   "source": [
    "merged_df2 = pd.merge(wellheader, prodflaringcleaned, on='API Number', how='inner')"
   ]
  },
  {
   "cell_type": "code",
   "execution_count": 27,
   "id": "a7ab2bb5",
   "metadata": {},
   "outputs": [
    {
     "name": "stdout",
     "output_type": "stream",
     "text": [
      "Index(['Id_x', 'API Number', 'Well Name', 'Texas District', 'Lease Name',\n",
      "       'Lease Number', 'Number of Wells in Lease', 'Formation', 'Field',\n",
      "       'Well Direction',\n",
      "       ...\n",
      "       'Land Type Category', 'Mineral Rights Type', 'Simul Frac Completion',\n",
      "       'Wellhead Breakeven Oil Price', 'Wellhead Breakeven Gas Price', 'Id_y',\n",
      "       'Year', 'Month', 'FlaredGas_MCf', 'GrossGasProduction_MCf'],\n",
      "      dtype='object', length=230)\n"
     ]
    }
   ],
   "source": [
    "column_names = merged_df2.columns\n",
    "print(column_names)"
   ]
  },
  {
   "cell_type": "code",
   "execution_count": 28,
   "id": "e5211a32",
   "metadata": {},
   "outputs": [],
   "source": [
    "flaringfinal = pd.merge(merged_df2,operator,on='FK_NASOperator',how='inner')"
   ]
  },
  {
   "cell_type": "code",
   "execution_count": 21,
   "id": "5df51f6e",
   "metadata": {},
   "outputs": [
    {
     "ename": "NameError",
     "evalue": "name 'flaringfinal' is not defined",
     "output_type": "error",
     "traceback": [
      "\u001b[1;31m---------------------------------------------------------------------------\u001b[0m",
      "\u001b[1;31mNameError\u001b[0m                                 Traceback (most recent call last)",
      "Cell \u001b[1;32mIn[21], line 2\u001b[0m\n\u001b[0;32m      1\u001b[0m \u001b[38;5;66;03m# Assuming you have already created and populated the 'merged_df' DataFrame\u001b[39;00m\n\u001b[1;32m----> 2\u001b[0m column_names \u001b[38;5;241m=\u001b[39m flaringfinal\u001b[38;5;241m.\u001b[39mcolumns\n\u001b[0;32m      4\u001b[0m \u001b[38;5;66;03m# Split the column names into chunks of 10 for printing\u001b[39;00m\n\u001b[0;32m      5\u001b[0m chunk_size \u001b[38;5;241m=\u001b[39m \u001b[38;5;241m10\u001b[39m\n",
      "\u001b[1;31mNameError\u001b[0m: name 'flaringfinal' is not defined"
     ]
    }
   ],
   "source": [
    "# Assuming you have already created and populated the 'merged_df' DataFrame\n",
    "column_names = flaringfinal.columns\n",
    "\n",
    "# Split the column names into chunks of 10 for printing\n",
    "chunk_size = 10\n",
    "for i in range(0, len(column_names), chunk_size):\n",
    "    chunk = column_names[i:i + chunk_size]\n",
    "    print(chunk)"
   ]
  },
  {
   "cell_type": "code",
   "execution_count": 22,
   "id": "67213db9",
   "metadata": {},
   "outputs": [
    {
     "ename": "NameError",
     "evalue": "name 'flaringfinal' is not defined",
     "output_type": "error",
     "traceback": [
      "\u001b[1;31m---------------------------------------------------------------------------\u001b[0m",
      "\u001b[1;31mNameError\u001b[0m                                 Traceback (most recent call last)",
      "Cell \u001b[1;32mIn[22], line 1\u001b[0m\n\u001b[1;32m----> 1\u001b[0m \u001b[38;5;28mprint\u001b[39m(flaringfinal\u001b[38;5;241m.\u001b[39misnull()\u001b[38;5;241m.\u001b[39msum())\n",
      "\u001b[1;31mNameError\u001b[0m: name 'flaringfinal' is not defined"
     ]
    }
   ],
   "source": [
    "print(flaringfinal.isnull().sum())"
   ]
  },
  {
   "cell_type": "code",
   "execution_count": 33,
   "id": "d125affd",
   "metadata": {},
   "outputs": [
    {
     "name": "stdout",
     "output_type": "stream",
     "text": [
      "Operator\n",
      "Oasis Petroleum          5.687417e+07\n",
      "Hess                     3.936991e+07\n",
      "ExxonMobil               3.642657e+07\n",
      "ConocoPhillips           3.365403e+07\n",
      "Continental Resources    2.509976e+07\n",
      "Whiting Petroleum        2.130784e+07\n",
      "Enerplus Corporation     1.547795e+07\n",
      "Ovintiv                  1.360296e+07\n",
      "Petro-Hunt LLC           1.263839e+07\n",
      "Marathon Oil             9.637691e+06\n",
      "Name: FlaredGas_MCf, dtype: float64\n"
     ]
    }
   ],
   "source": [
    "\n",
    "\n",
    "# Group by the \"Operator\" column and sum the \"FlaredGas_MCf\"\n",
    "operator_sum = flaringfinal.groupby('Operator')['FlaredGas_MCf'].sum()\n",
    "\n",
    "# Sort the operators by the summed values in descending order\n",
    "sorted_operators = operator_sum.sort_values(ascending=False)\n",
    "\n",
    "# Select the top 5 operators\n",
    "top_5_operators = sorted_operators.head(10)\n",
    "\n",
    "print(top_5_operators)\n",
    "top_5_operators.to_csv('q3.csv')"
   ]
  },
  {
   "cell_type": "code",
   "execution_count": 61,
   "id": "4219aa56",
   "metadata": {},
   "outputs": [],
   "source": [
    "merged_operator_name = pd.merge(wellheader, operator, on='FK_NASOperator', how='inner')"
   ]
  },
  {
   "cell_type": "code",
   "execution_count": 62,
   "id": "9c2adcf9",
   "metadata": {},
   "outputs": [],
   "source": [
    "merged_operator_name.to_csv('operatorName.csv', index=False)"
   ]
  },
  {
   "cell_type": "code",
   "execution_count": 4,
   "id": "cc821378",
   "metadata": {},
   "outputs": [
    {
     "ename": "MemoryError",
     "evalue": "Unable to allocate 30.5 MiB for an array with shape (5, 800004) and data type int64",
     "output_type": "error",
     "traceback": [
      "\u001b[1;31m---------------------------------------------------------------------------\u001b[0m",
      "\u001b[1;31mMemoryError\u001b[0m                               Traceback (most recent call last)",
      "Cell \u001b[1;32mIn[4], line 1\u001b[0m\n\u001b[1;32m----> 1\u001b[0m merged_chemprod \u001b[38;5;241m=\u001b[39m pd\u001b[38;5;241m.\u001b[39mmerge(chemicals,production,on\u001b[38;5;241m=\u001b[39m\u001b[38;5;124m'\u001b[39m\u001b[38;5;124mAPI Number\u001b[39m\u001b[38;5;124m'\u001b[39m, how\u001b[38;5;241m=\u001b[39m\u001b[38;5;124m'\u001b[39m\u001b[38;5;124minner\u001b[39m\u001b[38;5;124m'\u001b[39m)\n",
      "File \u001b[1;32m~\\anaconda3\\Lib\\site-packages\\pandas\\core\\reshape\\merge.py:110\u001b[0m, in \u001b[0;36mmerge\u001b[1;34m(left, right, how, on, left_on, right_on, left_index, right_index, sort, suffixes, copy, indicator, validate)\u001b[0m\n\u001b[0;32m     93\u001b[0m \u001b[38;5;129m@Substitution\u001b[39m(\u001b[38;5;124m\"\u001b[39m\u001b[38;5;130;01m\\n\u001b[39;00m\u001b[38;5;124mleft : DataFrame or named Series\u001b[39m\u001b[38;5;124m\"\u001b[39m)\n\u001b[0;32m     94\u001b[0m \u001b[38;5;129m@Appender\u001b[39m(_merge_doc, indents\u001b[38;5;241m=\u001b[39m\u001b[38;5;241m0\u001b[39m)\n\u001b[0;32m     95\u001b[0m \u001b[38;5;28;01mdef\u001b[39;00m \u001b[38;5;21mmerge\u001b[39m(\n\u001b[1;32m   (...)\u001b[0m\n\u001b[0;32m    108\u001b[0m     validate: \u001b[38;5;28mstr\u001b[39m \u001b[38;5;241m|\u001b[39m \u001b[38;5;28;01mNone\u001b[39;00m \u001b[38;5;241m=\u001b[39m \u001b[38;5;28;01mNone\u001b[39;00m,\n\u001b[0;32m    109\u001b[0m ) \u001b[38;5;241m-\u001b[39m\u001b[38;5;241m>\u001b[39m DataFrame:\n\u001b[1;32m--> 110\u001b[0m     op \u001b[38;5;241m=\u001b[39m _MergeOperation(\n\u001b[0;32m    111\u001b[0m         left,\n\u001b[0;32m    112\u001b[0m         right,\n\u001b[0;32m    113\u001b[0m         how\u001b[38;5;241m=\u001b[39mhow,\n\u001b[0;32m    114\u001b[0m         on\u001b[38;5;241m=\u001b[39mon,\n\u001b[0;32m    115\u001b[0m         left_on\u001b[38;5;241m=\u001b[39mleft_on,\n\u001b[0;32m    116\u001b[0m         right_on\u001b[38;5;241m=\u001b[39mright_on,\n\u001b[0;32m    117\u001b[0m         left_index\u001b[38;5;241m=\u001b[39mleft_index,\n\u001b[0;32m    118\u001b[0m         right_index\u001b[38;5;241m=\u001b[39mright_index,\n\u001b[0;32m    119\u001b[0m         sort\u001b[38;5;241m=\u001b[39msort,\n\u001b[0;32m    120\u001b[0m         suffixes\u001b[38;5;241m=\u001b[39msuffixes,\n\u001b[0;32m    121\u001b[0m         indicator\u001b[38;5;241m=\u001b[39mindicator,\n\u001b[0;32m    122\u001b[0m         validate\u001b[38;5;241m=\u001b[39mvalidate,\n\u001b[0;32m    123\u001b[0m     )\n\u001b[0;32m    124\u001b[0m     \u001b[38;5;28;01mreturn\u001b[39;00m op\u001b[38;5;241m.\u001b[39mget_result(copy\u001b[38;5;241m=\u001b[39mcopy)\n",
      "File \u001b[1;32m~\\anaconda3\\Lib\\site-packages\\pandas\\core\\reshape\\merge.py:703\u001b[0m, in \u001b[0;36m_MergeOperation.__init__\u001b[1;34m(self, left, right, how, on, left_on, right_on, axis, left_index, right_index, sort, suffixes, indicator, validate)\u001b[0m\n\u001b[0;32m    696\u001b[0m \u001b[38;5;28mself\u001b[39m\u001b[38;5;241m.\u001b[39m_cross \u001b[38;5;241m=\u001b[39m cross_col\n\u001b[0;32m    698\u001b[0m \u001b[38;5;66;03m# note this function has side effects\u001b[39;00m\n\u001b[0;32m    699\u001b[0m (\n\u001b[0;32m    700\u001b[0m     \u001b[38;5;28mself\u001b[39m\u001b[38;5;241m.\u001b[39mleft_join_keys,\n\u001b[0;32m    701\u001b[0m     \u001b[38;5;28mself\u001b[39m\u001b[38;5;241m.\u001b[39mright_join_keys,\n\u001b[0;32m    702\u001b[0m     \u001b[38;5;28mself\u001b[39m\u001b[38;5;241m.\u001b[39mjoin_names,\n\u001b[1;32m--> 703\u001b[0m ) \u001b[38;5;241m=\u001b[39m \u001b[38;5;28mself\u001b[39m\u001b[38;5;241m.\u001b[39m_get_merge_keys()\n\u001b[0;32m    705\u001b[0m \u001b[38;5;66;03m# validate the merge keys dtypes. We may need to coerce\u001b[39;00m\n\u001b[0;32m    706\u001b[0m \u001b[38;5;66;03m# to avoid incompatible dtypes\u001b[39;00m\n\u001b[0;32m    707\u001b[0m \u001b[38;5;28mself\u001b[39m\u001b[38;5;241m.\u001b[39m_maybe_coerce_merge_keys()\n",
      "File \u001b[1;32m~\\anaconda3\\Lib\\site-packages\\pandas\\core\\reshape\\merge.py:1232\u001b[0m, in \u001b[0;36m_MergeOperation._get_merge_keys\u001b[1;34m(self)\u001b[0m\n\u001b[0;32m   1229\u001b[0m     \u001b[38;5;28mself\u001b[39m\u001b[38;5;241m.\u001b[39mleft \u001b[38;5;241m=\u001b[39m \u001b[38;5;28mself\u001b[39m\u001b[38;5;241m.\u001b[39mleft\u001b[38;5;241m.\u001b[39m_drop_labels_or_levels(left_drop)\n\u001b[0;32m   1231\u001b[0m \u001b[38;5;28;01mif\u001b[39;00m right_drop:\n\u001b[1;32m-> 1232\u001b[0m     \u001b[38;5;28mself\u001b[39m\u001b[38;5;241m.\u001b[39mright \u001b[38;5;241m=\u001b[39m \u001b[38;5;28mself\u001b[39m\u001b[38;5;241m.\u001b[39mright\u001b[38;5;241m.\u001b[39m_drop_labels_or_levels(right_drop)\n\u001b[0;32m   1234\u001b[0m \u001b[38;5;28;01mreturn\u001b[39;00m left_keys, right_keys, join_names\n",
      "File \u001b[1;32m~\\anaconda3\\Lib\\site-packages\\pandas\\core\\generic.py:1920\u001b[0m, in \u001b[0;36mNDFrame._drop_labels_or_levels\u001b[1;34m(self, keys, axis)\u001b[0m\n\u001b[0;32m   1915\u001b[0m labels_to_drop \u001b[38;5;241m=\u001b[39m [k \u001b[38;5;28;01mfor\u001b[39;00m k \u001b[38;5;129;01min\u001b[39;00m keys \u001b[38;5;28;01mif\u001b[39;00m \u001b[38;5;129;01mnot\u001b[39;00m \u001b[38;5;28mself\u001b[39m\u001b[38;5;241m.\u001b[39m_is_level_reference(k, axis\u001b[38;5;241m=\u001b[39maxis)]\n\u001b[0;32m   1917\u001b[0m \u001b[38;5;66;03m# Perform copy upfront and then use inplace operations below.\u001b[39;00m\n\u001b[0;32m   1918\u001b[0m \u001b[38;5;66;03m# This ensures that we always perform exactly one copy.\u001b[39;00m\n\u001b[0;32m   1919\u001b[0m \u001b[38;5;66;03m# ``copy`` and/or ``inplace`` options could be added in the future.\u001b[39;00m\n\u001b[1;32m-> 1920\u001b[0m dropped \u001b[38;5;241m=\u001b[39m \u001b[38;5;28mself\u001b[39m\u001b[38;5;241m.\u001b[39mcopy()\n\u001b[0;32m   1922\u001b[0m \u001b[38;5;28;01mif\u001b[39;00m axis \u001b[38;5;241m==\u001b[39m \u001b[38;5;241m0\u001b[39m:\n\u001b[0;32m   1923\u001b[0m     \u001b[38;5;66;03m# Handle dropping index levels\u001b[39;00m\n\u001b[0;32m   1924\u001b[0m     \u001b[38;5;28;01mif\u001b[39;00m levels_to_drop:\n",
      "File \u001b[1;32m~\\anaconda3\\Lib\\site-packages\\pandas\\core\\generic.py:6368\u001b[0m, in \u001b[0;36mNDFrame.copy\u001b[1;34m(self, deep)\u001b[0m\n\u001b[0;32m   6258\u001b[0m \u001b[38;5;129m@final\u001b[39m\n\u001b[0;32m   6259\u001b[0m \u001b[38;5;28;01mdef\u001b[39;00m \u001b[38;5;21mcopy\u001b[39m(\u001b[38;5;28mself\u001b[39m: NDFrameT, deep: bool_t \u001b[38;5;241m|\u001b[39m \u001b[38;5;28;01mNone\u001b[39;00m \u001b[38;5;241m=\u001b[39m \u001b[38;5;28;01mTrue\u001b[39;00m) \u001b[38;5;241m-\u001b[39m\u001b[38;5;241m>\u001b[39m NDFrameT:\n\u001b[0;32m   6260\u001b[0m \u001b[38;5;250m    \u001b[39m\u001b[38;5;124;03m\"\"\"\u001b[39;00m\n\u001b[0;32m   6261\u001b[0m \u001b[38;5;124;03m    Make a copy of this object's indices and data.\u001b[39;00m\n\u001b[0;32m   6262\u001b[0m \n\u001b[1;32m   (...)\u001b[0m\n\u001b[0;32m   6366\u001b[0m \u001b[38;5;124;03m    dtype: object\u001b[39;00m\n\u001b[0;32m   6367\u001b[0m \u001b[38;5;124;03m    \"\"\"\u001b[39;00m\n\u001b[1;32m-> 6368\u001b[0m     data \u001b[38;5;241m=\u001b[39m \u001b[38;5;28mself\u001b[39m\u001b[38;5;241m.\u001b[39m_mgr\u001b[38;5;241m.\u001b[39mcopy(deep\u001b[38;5;241m=\u001b[39mdeep)\n\u001b[0;32m   6369\u001b[0m     \u001b[38;5;28mself\u001b[39m\u001b[38;5;241m.\u001b[39m_clear_item_cache()\n\u001b[0;32m   6370\u001b[0m     \u001b[38;5;28;01mreturn\u001b[39;00m \u001b[38;5;28mself\u001b[39m\u001b[38;5;241m.\u001b[39m_constructor(data)\u001b[38;5;241m.\u001b[39m__finalize__(\u001b[38;5;28mself\u001b[39m, method\u001b[38;5;241m=\u001b[39m\u001b[38;5;124m\"\u001b[39m\u001b[38;5;124mcopy\u001b[39m\u001b[38;5;124m\"\u001b[39m)\n",
      "File \u001b[1;32m~\\anaconda3\\Lib\\site-packages\\pandas\\core\\internals\\managers.py:649\u001b[0m, in \u001b[0;36mBaseBlockManager.copy\u001b[1;34m(self, deep)\u001b[0m\n\u001b[0;32m    646\u001b[0m \u001b[38;5;28;01melse\u001b[39;00m:\n\u001b[0;32m    647\u001b[0m     new_axes \u001b[38;5;241m=\u001b[39m \u001b[38;5;28mlist\u001b[39m(\u001b[38;5;28mself\u001b[39m\u001b[38;5;241m.\u001b[39maxes)\n\u001b[1;32m--> 649\u001b[0m res \u001b[38;5;241m=\u001b[39m \u001b[38;5;28mself\u001b[39m\u001b[38;5;241m.\u001b[39mapply(\u001b[38;5;124m\"\u001b[39m\u001b[38;5;124mcopy\u001b[39m\u001b[38;5;124m\"\u001b[39m, deep\u001b[38;5;241m=\u001b[39mdeep)\n\u001b[0;32m    650\u001b[0m new_refs: \u001b[38;5;28mlist\u001b[39m[weakref\u001b[38;5;241m.\u001b[39mref \u001b[38;5;241m|\u001b[39m \u001b[38;5;28;01mNone\u001b[39;00m] \u001b[38;5;241m|\u001b[39m \u001b[38;5;28;01mNone\u001b[39;00m\n\u001b[0;32m    651\u001b[0m \u001b[38;5;28;01mif\u001b[39;00m deep:\n",
      "File \u001b[1;32m~\\anaconda3\\Lib\\site-packages\\pandas\\core\\internals\\managers.py:352\u001b[0m, in \u001b[0;36mBaseBlockManager.apply\u001b[1;34m(self, f, align_keys, ignore_failures, **kwargs)\u001b[0m\n\u001b[0;32m    350\u001b[0m         applied \u001b[38;5;241m=\u001b[39m b\u001b[38;5;241m.\u001b[39mapply(f, \u001b[38;5;241m*\u001b[39m\u001b[38;5;241m*\u001b[39mkwargs)\n\u001b[0;32m    351\u001b[0m     \u001b[38;5;28;01melse\u001b[39;00m:\n\u001b[1;32m--> 352\u001b[0m         applied \u001b[38;5;241m=\u001b[39m \u001b[38;5;28mgetattr\u001b[39m(b, f)(\u001b[38;5;241m*\u001b[39m\u001b[38;5;241m*\u001b[39mkwargs)\n\u001b[0;32m    353\u001b[0m \u001b[38;5;28;01mexcept\u001b[39;00m (\u001b[38;5;167;01mTypeError\u001b[39;00m, \u001b[38;5;167;01mNotImplementedError\u001b[39;00m):\n\u001b[0;32m    354\u001b[0m     \u001b[38;5;28;01mif\u001b[39;00m \u001b[38;5;129;01mnot\u001b[39;00m ignore_failures:\n",
      "File \u001b[1;32m~\\anaconda3\\Lib\\site-packages\\pandas\\core\\internals\\blocks.py:549\u001b[0m, in \u001b[0;36mBlock.copy\u001b[1;34m(self, deep)\u001b[0m\n\u001b[0;32m    547\u001b[0m values \u001b[38;5;241m=\u001b[39m \u001b[38;5;28mself\u001b[39m\u001b[38;5;241m.\u001b[39mvalues\n\u001b[0;32m    548\u001b[0m \u001b[38;5;28;01mif\u001b[39;00m deep:\n\u001b[1;32m--> 549\u001b[0m     values \u001b[38;5;241m=\u001b[39m values\u001b[38;5;241m.\u001b[39mcopy()\n\u001b[0;32m    550\u001b[0m \u001b[38;5;28;01mreturn\u001b[39;00m \u001b[38;5;28mtype\u001b[39m(\u001b[38;5;28mself\u001b[39m)(values, placement\u001b[38;5;241m=\u001b[39m\u001b[38;5;28mself\u001b[39m\u001b[38;5;241m.\u001b[39m_mgr_locs, ndim\u001b[38;5;241m=\u001b[39m\u001b[38;5;28mself\u001b[39m\u001b[38;5;241m.\u001b[39mndim)\n",
      "\u001b[1;31mMemoryError\u001b[0m: Unable to allocate 30.5 MiB for an array with shape (5, 800004) and data type int64"
     ]
    }
   ],
   "source": [
    "merged_chemprod = pd.merge(chemicals,production,on='API Number', how='inner')"
   ]
  },
  {
   "cell_type": "code",
   "execution_count": null,
   "id": "8681d444",
   "metadata": {},
   "outputs": [],
   "source": []
  }
 ],
 "metadata": {
  "kernelspec": {
   "display_name": "Python 3 (ipykernel)",
   "language": "python",
   "name": "python3"
  },
  "language_info": {
   "codemirror_mode": {
    "name": "ipython",
    "version": 3
   },
   "file_extension": ".py",
   "mimetype": "text/x-python",
   "name": "python",
   "nbconvert_exporter": "python",
   "pygments_lexer": "ipython3",
   "version": "3.11.4"
  }
 },
 "nbformat": 4,
 "nbformat_minor": 5
}
